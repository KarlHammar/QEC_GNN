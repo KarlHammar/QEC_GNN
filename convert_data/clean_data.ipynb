{
 "cells": [
  {
   "cell_type": "code",
   "execution_count": null,
   "id": "blank-sodium",
   "metadata": {},
   "outputs": [],
   "source": [
    "import torch \n",
    "import pickle\n",
    "import numpy as np\n",
    "\n",
    "\n",
    "#pickle_in1 = open(\"data/stdc/dmixed(579)_p1/dict.defect\",\"rb\")\n",
    "#pickle_in2 = open(\"data/stdc/dmixed(579)_p1/dict.eq_distr\",\"rb\")\n",
    "\n",
    "\n",
    "dataset = torch.load('data/stdc/d5p05_full/graphs.pt')\n",
    "#dataset = torch.load('data/stdc/dmixed(57)_p1/graphs_clean.pt')\n",
    "print(len(dataset))"
   ]
  },
  {
   "cell_type": "code",
   "execution_count": null,
   "id": "involved-closing",
   "metadata": {},
   "outputs": [],
   "source": [
    "num_nodes=0\n",
    "max_nodes=0\n",
    "for ix in range(len(dataset)):\n",
    "    num_nodes += len(dataset[ix].x)\n",
    "    if len(dataset[ix].x) > max_nodes:\n",
    "        max_nodes = len(dataset[ix].x)\n",
    "        #print(ix)\n",
    "print(num_nodes/len(dataset))\n",
    "print(max_nodes)\n",
    "#print(len(dataset[2].x.flatten()))\n",
    "#print(dataset[2].edge_attr[:4].flatten().shape)\n"
   ]
  },
  {
   "cell_type": "code",
   "execution_count": null,
   "id": "adequate-letters",
   "metadata": {},
   "outputs": [],
   "source": [
    "flat_eq = np.zeros((len(dataset),(max_nodes*2)+6))\n",
    "print(flat_eq.shape)\n",
    "for ix in range(len(dataset)):\n",
    "    flat_eq[ix,:len(dataset[ix].x.flatten())] = dataset[ix].x.flatten()\n",
    "    #print(dataset[ix].edge_attr[:2].flatten())\n",
    "    flat_eq[ix,-6:-(6-len(dataset[ix].edge_attr[:5].flatten()))] = dataset[ix].edge_attr[:5].flatten()\n",
    "u, idx, inv,counts = np.unique(flat_eq,return_index=True,return_inverse=True,return_counts=True,axis=0)\n",
    "clean_data = []\n",
    "for ix in range(len(idx)):\n",
    "    clean_data.append(dataset[idx[ix]])\n",
    "print(len(clean_data))"
   ]
  },
  {
   "cell_type": "code",
   "execution_count": null,
   "id": "vulnerable-registrar",
   "metadata": {},
   "outputs": [],
   "source": [
    "#torch.save(clean_data,'data/stdc/d9p1/graphs_clean.pt')"
   ]
  },
  {
   "cell_type": "code",
   "execution_count": null,
   "id": "genuine-directive",
   "metadata": {},
   "outputs": [],
   "source": [
    "counts = torch.zeros(4)\n",
    "for ix in range(len(clean_data)):\n",
    "    counts = counts + clean_data[ix].y\n",
    "print(torch.round(counts))"
   ]
  },
  {
   "cell_type": "code",
   "execution_count": null,
   "id": "dated-guest",
   "metadata": {},
   "outputs": [],
   "source": []
  }
 ],
 "metadata": {
  "kernelspec": {
   "display_name": "Python 3",
   "language": "python",
   "name": "python3"
  },
  "language_info": {
   "codemirror_mode": {
    "name": "ipython",
    "version": 3
   },
   "file_extension": ".py",
   "mimetype": "text/x-python",
   "name": "python",
   "nbconvert_exporter": "python",
   "pygments_lexer": "ipython3",
   "version": "3.8.8"
  }
 },
 "nbformat": 4,
 "nbformat_minor": 5
}
