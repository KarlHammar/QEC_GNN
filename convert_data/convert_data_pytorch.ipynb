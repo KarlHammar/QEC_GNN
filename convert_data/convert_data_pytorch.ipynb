{
 "cells": [
  {
   "cell_type": "code",
   "execution_count": 26,
   "id": "motivated-tunisia",
   "metadata": {},
   "outputs": [],
   "source": [
    "import torch_geometric.transforms\n",
    "from torch_geometric.nn import knn_graph\n",
    "import torch_geometric.data\n",
    "import torch \n",
    "from torch_geometric.data import Data\n",
    "from torch_geometric.utils import from_networkx\n",
    "import numpy as np\n",
    "import pickle\n",
    "from torch_geometric.data import DataLoader\n",
    "import linecache\n",
    "import random"
   ]
  },
  {
   "cell_type": "code",
   "execution_count": 27,
   "id": "charitable-corporation",
   "metadata": {},
   "outputs": [
    {
     "name": "stdout",
     "output_type": "stream",
     "text": [
      "5833\n"
     ]
    }
   ],
   "source": [
    "pickle_in2 = open(\"../data/test2/dict.eq_distr\",\"rb\")\n",
    "eq_distr = []\n",
    "while 1:\n",
    "    try:\n",
    "        eq_distr.append(pickle.load(pickle_in2))\n",
    "    except EOFError:\n",
    "        break\n",
    "\n",
    "print(len(eq_distr))"
   ]
  },
  {
   "cell_type": "code",
   "execution_count": 28,
   "id": "intensive-columbia",
   "metadata": {},
   "outputs": [],
   "source": [
    "#Use files from \"new_datacreator\"\n",
    "\n",
    "node_feat_load = np.genfromtxt('../data/test2/node_features.txt')\n",
    "edge_idx_load = np.genfromtxt('../data/test2/edgelist.txt',usecols=(0,1))\n",
    "edge_feat_load = np.genfromtxt('../data/test2/edgelist.txt',dtype = float,usecols=3,comments = '}')\n",
    "graph_info = np.genfromtxt('../data/test2/graph_info.txt')"
   ]
  },
  {
   "cell_type": "code",
   "execution_count": 29,
   "id": "instructional-moderator",
   "metadata": {},
   "outputs": [],
   "source": [
    "graphs = []\n",
    "\n",
    "#could probably make it more elegant but for now the holder indices works fine i guess :P\n",
    "holder=0\n",
    "edge_holder =0\n",
    "for ix in range(len(graph_info)):\n",
    "#for ix in range(5):\n",
    "\n",
    "    num_nodes = int(graph_info[ix])\n",
    "    edge_amount = int(num_nodes*(num_nodes-1))\n",
    "    \n",
    "    node_feat = node_feat_load[holder:holder+num_nodes]\n",
    "    edge_idx = edge_idx_load[edge_holder:edge_amount+edge_holder]\n",
    "    edge_feat = edge_feat_load[edge_holder:edge_amount+edge_holder]\n",
    "    \n",
    "    #print(node_feat)\n",
    "    #print(edge_idx)\n",
    "    #print(edge_feat)\n",
    "    \n",
    "    node_features = torch.from_numpy(node_feat)\n",
    "    edge_features = torch.from_numpy(edge_feat)\n",
    "    \n",
    "    edge_index = torch.from_numpy(np.transpose(edge_idx)).type(torch.LongTensor)\n",
    "    #edge_index = torch_geometric.utils.to_undirected(edge_index)\n",
    "    \n",
    "    #print(node_features)\n",
    "    #print(edge_index)\n",
    "    #print(edge_features.shape)\n",
    "    eq_class = np.array(np.around(eq_distr[ix]*0.01,decimals=3))#should change this to float with prec.3 or something\n",
    "    eq_class = torch.from_numpy(eq_class)\n",
    "    eq_class = eq_class.unsqueeze(0)\n",
    "    \n",
    "    #create of graph one at the time\n",
    "    graph = Data(node_features,edge_index,edge_features,y=eq_class)\n",
    "    \n",
    "    #print(graph)\n",
    "    graphs.append(graph)\n",
    "    \n",
    "    holder = holder + num_nodes\n",
    "    edge_holder = edge_holder + edge_amount\n",
    "\n",
    "\n",
    "    \n",
    "\n",
    "torch.save(graphs,'../data/test2/graphs.pt')#change namnes  \n"
   ]
  },
  {
   "cell_type": "code",
   "execution_count": null,
   "id": "activated-slovak",
   "metadata": {},
   "outputs": [],
   "source": []
  },
  {
   "cell_type": "code",
   "execution_count": null,
   "id": "regulation-darkness",
   "metadata": {},
   "outputs": [],
   "source": []
  },
  {
   "cell_type": "code",
   "execution_count": null,
   "id": "another-latest",
   "metadata": {},
   "outputs": [],
   "source": []
  },
  {
   "cell_type": "code",
   "execution_count": 13,
   "id": "stainless-embassy",
   "metadata": {},
   "outputs": [],
   "source": [
    "\n"
   ]
  },
  {
   "cell_type": "code",
   "execution_count": 16,
   "id": "structured-edgar",
   "metadata": {},
   "outputs": [
    {
     "name": "stdout",
     "output_type": "stream",
     "text": [
      "Number of graphs: 5741\n",
      "\n",
      "First graph attributes:\n",
      "Data(edge_attr=[110], edge_index=[2, 110], x=[11, 2], y=[1, 4])\n",
      "=============================================================\n",
      "Number of nodes: 11\n",
      "Number of edges: 110\n",
      "Average node degree: 10.00\n"
     ]
    }
   ],
   "source": [
    "dataset = torch.load('../data/test2/graphs_clean.pt')\n",
    "#print()\n",
    "#print(f'Dataset: {dataset}:')\n",
    "#print('====================')\n",
    "print(f'Number of graphs: {len(dataset)}')\n",
    "print()\n",
    "#print(f'Number of features: {dataset.num_features}')\n",
    "#print(f'Number of classes: {dataset.num_classes}')\n",
    "print(f'First graph attributes:')\n",
    "data = dataset[0]  # Get the first graph object.\n",
    "#print()\n",
    "print(data)\n",
    "print('=============================================================')\n",
    "\n",
    "# Gather some statistics about the first graph.\n",
    "print(f'Number of nodes: {data.num_nodes}')\n",
    "print(f'Number of edges: {data.num_edges}')\n",
    "print(f'Average node degree: {data.num_edges / data.num_nodes:.2f}')\n"
   ]
  },
  {
   "cell_type": "code",
   "execution_count": 25,
   "id": "sharp-economics",
   "metadata": {},
   "outputs": [
    {
     "name": "stdout",
     "output_type": "stream",
     "text": [
      "Number of training graphs: 8\n",
      "Number of test graphs: 5733\n"
     ]
    }
   ],
   "source": [
    "torch.manual_seed(1234)\n",
    "#dataset = dataset.shuffle()\n",
    "random.shuffle(dataset)\n",
    "\n",
    "train_dataset = dataset[:8]\n",
    "test_dataset = dataset[8:]\n",
    "\n",
    "print(f'Number of training graphs: {len(train_dataset)}')\n",
    "print(f'Number of test graphs: {len(test_dataset)}')\n",
    "\n"
   ]
  },
  {
   "cell_type": "code",
   "execution_count": null,
   "id": "forbidden-locking",
   "metadata": {},
   "outputs": [],
   "source": []
  },
  {
   "cell_type": "code",
   "execution_count": null,
   "id": "selective-instruction",
   "metadata": {},
   "outputs": [],
   "source": []
  },
  {
   "cell_type": "code",
   "execution_count": null,
   "id": "sweet-charles",
   "metadata": {},
   "outputs": [],
   "source": []
  },
  {
   "cell_type": "code",
   "execution_count": null,
   "id": "important-client",
   "metadata": {},
   "outputs": [],
   "source": []
  },
  {
   "cell_type": "code",
   "execution_count": null,
   "id": "connected-zambia",
   "metadata": {},
   "outputs": [],
   "source": []
  },
  {
   "cell_type": "code",
   "execution_count": null,
   "id": "guided-possession",
   "metadata": {},
   "outputs": [],
   "source": []
  },
  {
   "cell_type": "code",
   "execution_count": null,
   "id": "medical-prior",
   "metadata": {},
   "outputs": [],
   "source": []
  },
  {
   "cell_type": "code",
   "execution_count": null,
   "id": "impressive-record",
   "metadata": {},
   "outputs": [],
   "source": []
  },
  {
   "cell_type": "code",
   "execution_count": null,
   "id": "electrical-utilization",
   "metadata": {},
   "outputs": [],
   "source": []
  },
  {
   "cell_type": "code",
   "execution_count": null,
   "id": "configured-scottish",
   "metadata": {},
   "outputs": [],
   "source": []
  },
  {
   "cell_type": "code",
   "execution_count": null,
   "id": "characteristic-wesley",
   "metadata": {},
   "outputs": [],
   "source": []
  },
  {
   "cell_type": "code",
   "execution_count": null,
   "id": "brazilian-defense",
   "metadata": {},
   "outputs": [],
   "source": []
  },
  {
   "cell_type": "code",
   "execution_count": null,
   "id": "orange-violation",
   "metadata": {},
   "outputs": [],
   "source": []
  }
 ],
 "metadata": {
  "kernelspec": {
   "display_name": "Python 3",
   "language": "python",
   "name": "python3"
  },
  "language_info": {
   "codemirror_mode": {
    "name": "ipython",
    "version": 3
   },
   "file_extension": ".py",
   "mimetype": "text/x-python",
   "name": "python",
   "nbconvert_exporter": "python",
   "pygments_lexer": "ipython3",
   "version": "3.8.5"
  }
 },
 "nbformat": 4,
 "nbformat_minor": 5
}
